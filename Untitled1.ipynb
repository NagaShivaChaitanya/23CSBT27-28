{
  "nbformat": 4,
  "nbformat_minor": 0,
  "metadata": {
    "colab": {
      "provenance": [],
      "authorship_tag": "ABX9TyNISepfWzuGgWHCihsInGNA",
      "include_colab_link": true
    },
    "kernelspec": {
      "name": "python3",
      "display_name": "Python 3"
    },
    "language_info": {
      "name": "python"
    }
  },
  "cells": [
    {
      "cell_type": "markdown",
      "metadata": {
        "id": "view-in-github",
        "colab_type": "text"
      },
      "source": [
        "<a href=\"https://colab.research.google.com/github/NagaShivaChaitanya/23CSBT27-28/blob/main/Untitled1.ipynb\" target=\"_parent\"><img src=\"https://colab.research.google.com/assets/colab-badge.svg\" alt=\"Open In Colab\"/></a>"
      ]
    },
    {
      "cell_type": "code",
      "execution_count": 1,
      "metadata": {
        "id": "GEAitsW1v25v",
        "outputId": "ff82a9c3-f6a1-44b7-8bed-44cc79fb2561",
        "colab": {
          "base_uri": "https://localhost:8080/"
        }
      },
      "outputs": [
        {
          "output_type": "stream",
          "name": "stdout",
          "text": [
            "<class 'list'>\n",
            "<class 'str'>\n",
            "<class 'list'>\n",
            "[1, 2, 3, 4]\n",
            "my first lab\n",
            "['naga', 'shiva', 'chaitanya']\n",
            "3\n",
            "shiva\n"
          ]
        }
      ],
      "source": [
        "import numpy as np\n",
        "List  = [1,2,3,4]\n",
        "List2 = \"my first lab\"\n",
        "List3 = ['naga','shiva','chaitanya']\n",
        "print(type(List))\n",
        "print(type(List2))\n",
        "print(type(List3))\n",
        "print(List)\n",
        "print(List2)\n",
        "print(List3)\n",
        "print(List[2])\n",
        "print(List3[1])"
      ]
    }
  ]
}