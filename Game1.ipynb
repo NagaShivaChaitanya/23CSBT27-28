{
  "nbformat": 4,
  "nbformat_minor": 0,
  "metadata": {
    "colab": {
      "provenance": [],
      "authorship_tag": "ABX9TyPi5ppvvBdatab/IUY8TwY/",
      "include_colab_link": true
    },
    "kernelspec": {
      "name": "python3",
      "display_name": "Python 3"
    },
    "language_info": {
      "name": "python"
    }
  },
  "cells": [
    {
      "cell_type": "markdown",
      "metadata": {
        "id": "view-in-github",
        "colab_type": "text"
      },
      "source": [
        "<a href=\"https://colab.research.google.com/github/NagaShivaChaitanya/23CSBT27-28/blob/main/Game1.ipynb\" target=\"_parent\"><img src=\"https://colab.research.google.com/assets/colab-badge.svg\" alt=\"Open In Colab\"/></a>"
      ]
    },
    {
      "cell_type": "code",
      "source": [
        "class Game:\n",
        "  def actions(self, state ):\n",
        "    #”””Return a collection of the allowable moves from this state .”””\n",
        "    raise NotImplementedError\n",
        "  def result(self, state , move ):\n",
        "    # ”””Return the state that results from making a move from a state .”””\n",
        "    raise NotImplementedError\n",
        "  def is_terminal (self, state ):\n",
        "    #”””Return True i f this is a final state for the game.”””\n",
        "    return not self.actions(state)\n",
        "  def utility(self, state , player ):\n",
        "      #”””Return the value of this final state to player .”””\n",
        "      raise NotImplementedError"
      ],
      "metadata": {
        "id": "FkfE4iO01Qm5"
      },
      "execution_count": 3,
      "outputs": []
    }
  ]
}